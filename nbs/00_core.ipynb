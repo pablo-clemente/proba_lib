{
 "cells": [
  {
   "cell_type": "code",
   "execution_count": null,
   "metadata": {},
   "outputs": [],
   "source": [
    "# default_exp core"
   ]
  },
  {
   "cell_type": "markdown",
   "metadata": {},
   "source": [
    "# Probability functions\n",
    "\n",
    "> Sumarry: Overview of functions."
   ]
  },
  {
   "cell_type": "code",
   "execution_count": null,
   "metadata": {},
   "outputs": [],
   "source": [
    "#hide\n",
    "from nbdev.showdoc import *\n",
    "import math\n",
    "import numpy as np"
   ]
  },
  {
   "cell_type": "code",
   "execution_count": null,
   "metadata": {},
   "outputs": [],
   "source": [
    "def expected_value(a,X):\n",
    "    return np.mean((a.dot(X)))"
   ]
  },
  {
   "cell_type": "code",
   "execution_count": null,
   "metadata": {},
   "outputs": [],
   "source": [
    "def exp_val_x2(a,X):\n",
    "    return np.mean((np.power(a,2).dot(X)))"
   ]
  },
  {
   "cell_type": "code",
   "execution_count": null,
   "metadata": {},
   "outputs": [],
   "source": [
    "def exp_val_2(x,y,Px):\n",
    "    return Px @ (x * y)"
   ]
  },
  {
   "cell_type": "code",
   "execution_count": null,
   "metadata": {},
   "outputs": [],
   "source": [
    "def variance(a,X):\n",
    "    return exp_val_x2(a,X) - np.power(expected_value(a,X),2)"
   ]
  },
  {
   "cell_type": "code",
   "execution_count": null,
   "metadata": {},
   "outputs": [],
   "source": [
    "def covariance(x,y,P):\n",
    "    return exp_val_2(x,y,P) - (expected_value(x,P) * expected_value(y,P))"
   ]
  },
  {
   "cell_type": "code",
   "execution_count": null,
   "metadata": {},
   "outputs": [],
   "source": [
    "def StandardDeviation(Var):\n",
    "    return np.sqrt(Var)"
   ]
  },
  {
   "cell_type": "code",
   "execution_count": null,
   "metadata": {},
   "outputs": [],
   "source": [
    "def correlation(x,y,P):\n",
    "    cov = covariance(x,y,P)\n",
    "    varx = variance(x,P)\n",
    "    varY = variance(y,P)\n",
    "    dsx = StandardDeviation(varx)\n",
    "    dsy = StandardDeviation(varY)\n",
    "    return (cov / (dsx * dsy))"
   ]
  },
  {
   "cell_type": "markdown",
   "metadata": {},
   "source": [
    "Example:"
   ]
  },
  {
   "cell_type": "code",
   "execution_count": null,
   "metadata": {},
   "outputs": [
    {
     "name": "stdout",
     "output_type": "stream",
     "text": [
      "Expected value x: 1.8\n",
      "Expected value y: 2.4\n",
      "Expected value xy: 5.4\n",
      "Covariance x,y: 1.08\n",
      "Expected value x^2: 3.5999999999999996\n",
      "Expected value y^2: 9.0\n",
      "Standard deviation x: 0.6\n",
      "Standard deviation y: 1.8\n",
      "Correlation x,y: 1.0\n"
     ]
    }
   ],
   "source": [
    "print(\"Expected value x:\", str(expected_value(np.array([1,2,3]),np.array([0.6,0.3,0.2]))))\n",
    "print(\"Expected value y:\", str(round(expected_value(np.array([1,2,6]),np.array([0.6,0.3,0.2])),1)))\n",
    "print(\"Expected value xy:\", str(exp_val_2(np.array([1,2,3]),np.array([1,2,6]),np.array([0.6,0.3,0.2]))))\n",
    "print(\"Covariance x,y:\",str(round(covariance(np.array([1,2,3]),np.array([1,2,6]),np.array([0.6,0.3,0.2])),2)))\n",
    "print(\"Expected value x^2:\",str(exp_val_x2(np.array([1,2,3]),np.array([0.6,0.3,0.2]))))\n",
    "print(\"Expected value y^2:\",str(exp_val_x2(np.array([1,2,6]),np.array([0.6,0.3,0.2]))))\n",
    "print(\"Standard deviation x:\",str(round(StandardDeviation(variance(np.array([1,2,3]),np.array([0.6,0.3,0.2]))),2)))\n",
    "print(\"Standard deviation y:\",str(round(StandardDeviation(variance(np.array([1,2,6]),np.array([0.6,0.3,0.2]))),2)))\n",
    "print(\"Correlation x,y:\",str(round(correlation(np.array([1,2,3]),np.array([1,2,6]),np.array([0.6,0.3,0.2])),2)))"
   ]
  }
 ],
 "metadata": {
  "kernelspec": {
   "display_name": "Python 3",
   "language": "python",
   "name": "python3"
  }
 },
 "nbformat": 4,
 "nbformat_minor": 4
}
